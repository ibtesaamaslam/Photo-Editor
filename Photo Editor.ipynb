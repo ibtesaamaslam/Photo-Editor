{
 "cells": [
  {
   "cell_type": "code",
   "execution_count": 1,
   "id": "bc55c8cb",
   "metadata": {},
   "outputs": [
    {
     "name": "stdout",
     "output_type": "stream",
     "text": [
      "Note: you may need to restart the kernel to use updated packages.\n"
     ]
    },
    {
     "name": "stderr",
     "output_type": "stream",
     "text": [
      "ERROR: Could not find a version that satisfies the requirement upgrade (from versions: none)\n",
      "ERROR: No matching distribution found for upgrade\n"
     ]
    }
   ],
   "source": [
    "pip install upgrade Pillow"
   ]
  },
  {
   "cell_type": "code",
   "execution_count": 2,
   "id": "3c13ddd7",
   "metadata": {},
   "outputs": [],
   "source": [
    "from PIL import Image , ImageEnhance , ImageFilter"
   ]
  },
  {
   "cell_type": "code",
   "execution_count": 3,
   "id": "f08bc10e",
   "metadata": {},
   "outputs": [],
   "source": [
    "import os"
   ]
  },
  {
   "cell_type": "code",
   "execution_count": 9,
   "id": "299dd882",
   "metadata": {},
   "outputs": [],
   "source": [
    "Path = 'C:\\imgs'\n",
    "PathOut = 'C:\\editedImgs'"
   ]
  },
  {
   "cell_type": "code",
   "execution_count": 10,
   "id": "0673d921",
   "metadata": {},
   "outputs": [
    {
     "ename": "OSError",
     "evalue": "[Errno 22] Invalid argument: '.C:\\\\editedImgs/a2508abf-7dae-430c-afe3-cb240973b0d4_edited.jpg'",
     "output_type": "error",
     "traceback": [
      "\u001b[1;31m---------------------------------------------------------------------------\u001b[0m",
      "\u001b[1;31mOSError\u001b[0m                                   Traceback (most recent call last)",
      "Cell \u001b[1;32mIn[10], line 5\u001b[0m\n\u001b[0;32m      3\u001b[0m edit \u001b[38;5;241m=\u001b[39m img\u001b[38;5;241m.\u001b[39mfilter(ImageFilter\u001b[38;5;241m.\u001b[39mSHARPEN)\u001b[38;5;241m.\u001b[39mconvert(\u001b[38;5;124m'\u001b[39m\u001b[38;5;124mL\u001b[39m\u001b[38;5;124m'\u001b[39m)\n\u001b[0;32m      4\u001b[0m clean_name \u001b[38;5;241m=\u001b[39m os\u001b[38;5;241m.\u001b[39mpath\u001b[38;5;241m.\u001b[39msplitext(filename)[\u001b[38;5;241m0\u001b[39m]\n\u001b[1;32m----> 5\u001b[0m edit\u001b[38;5;241m.\u001b[39msave(\u001b[38;5;124mf\u001b[39m\u001b[38;5;124m'\u001b[39m\u001b[38;5;124m.\u001b[39m\u001b[38;5;132;01m{\u001b[39;00mPathOut\u001b[38;5;132;01m}\u001b[39;00m\u001b[38;5;124m/\u001b[39m\u001b[38;5;132;01m{\u001b[39;00mclean_name\u001b[38;5;132;01m}\u001b[39;00m\u001b[38;5;124m_edited.jpg\u001b[39m\u001b[38;5;124m'\u001b[39m)\n",
      "File \u001b[1;32mG:\\New folder\\Lib\\site-packages\\PIL\\Image.py:2428\u001b[0m, in \u001b[0;36mImage.save\u001b[1;34m(self, fp, format, **params)\u001b[0m\n\u001b[0;32m   2426\u001b[0m         fp \u001b[38;5;241m=\u001b[39m builtins\u001b[38;5;241m.\u001b[39mopen(filename, \u001b[38;5;124m\"\u001b[39m\u001b[38;5;124mr+b\u001b[39m\u001b[38;5;124m\"\u001b[39m)\n\u001b[0;32m   2427\u001b[0m     \u001b[38;5;28;01melse\u001b[39;00m:\n\u001b[1;32m-> 2428\u001b[0m         fp \u001b[38;5;241m=\u001b[39m builtins\u001b[38;5;241m.\u001b[39mopen(filename, \u001b[38;5;124m\"\u001b[39m\u001b[38;5;124mw+b\u001b[39m\u001b[38;5;124m\"\u001b[39m)\n\u001b[0;32m   2430\u001b[0m \u001b[38;5;28;01mtry\u001b[39;00m:\n\u001b[0;32m   2431\u001b[0m     save_handler(\u001b[38;5;28mself\u001b[39m, fp, filename)\n",
      "\u001b[1;31mOSError\u001b[0m: [Errno 22] Invalid argument: '.C:\\\\editedImgs/a2508abf-7dae-430c-afe3-cb240973b0d4_edited.jpg'"
     ]
    }
   ],
   "source": [
    "for filename in os.listdir(Path):\n",
    "    img = Image.open(f\"{Path}/{filename}\")\n",
    "    edit = img.filter(ImageFilter.SHARPEN).convert('L')\n",
    "    clean_name = os.path.splitext(filename)[0]\n",
    "    edit.save(f'.{PathOut}/{clean_name}_edited.jpg')"
   ]
  },
  {
   "cell_type": "code",
   "execution_count": 11,
   "id": "237ae984",
   "metadata": {},
   "outputs": [
    {
     "ename": "FileNotFoundError",
     "evalue": "[WinError 3] The system cannot find the path specified: 'input_directory'",
     "output_type": "error",
     "traceback": [
      "\u001b[1;31m---------------------------------------------------------------------------\u001b[0m",
      "\u001b[1;31mFileNotFoundError\u001b[0m                         Traceback (most recent call last)",
      "Cell \u001b[1;32mIn[11], line 12\u001b[0m\n\u001b[0;32m      9\u001b[0m \u001b[38;5;28;01mif\u001b[39;00m \u001b[38;5;129;01mnot\u001b[39;00m os\u001b[38;5;241m.\u001b[39mpath\u001b[38;5;241m.\u001b[39mexists(PathOut):\n\u001b[0;32m     10\u001b[0m     os\u001b[38;5;241m.\u001b[39mmakedirs(PathOut)\n\u001b[1;32m---> 12\u001b[0m \u001b[38;5;28;01mfor\u001b[39;00m filename \u001b[38;5;129;01min\u001b[39;00m os\u001b[38;5;241m.\u001b[39mlistdir(Path):\n\u001b[0;32m     13\u001b[0m     \u001b[38;5;66;03m# Construct the full file path\u001b[39;00m\n\u001b[0;32m     14\u001b[0m     file_path \u001b[38;5;241m=\u001b[39m os\u001b[38;5;241m.\u001b[39mpath\u001b[38;5;241m.\u001b[39mjoin(Path, filename)\n\u001b[0;32m     16\u001b[0m     \u001b[38;5;66;03m# Check if the file is an image (optional but recommended)\u001b[39;00m\n",
      "\u001b[1;31mFileNotFoundError\u001b[0m: [WinError 3] The system cannot find the path specified: 'input_directory'"
     ]
    }
   ],
   "source": [
    "#from gpt\n",
    "\n",
    "import os\n",
    "from PIL import Image, ImageFilter\n",
    "\n",
    "# Define the input and output directories\n",
    "Path = \"input_directory\"  # Replace with your actual input directory\n",
    "PathOut = \"output_directory\"  # Replace with your actual output directory\n",
    "\n",
    "# Create the output directory if it doesn't exist\n",
    "if not os.path.exists(PathOut):\n",
    "    os.makedirs(PathOut)\n",
    "\n",
    "for filename in os.listdir(Path):\n",
    "    # Construct the full file path\n",
    "    file_path = os.path.join(Path, filename)\n",
    "    \n",
    "    # Check if the file is an image (optional but recommended)\n",
    "    if filename.endswith(('.png', '.jpg', '.jpeg', '.bmp', '.gif', '.tiff')):\n",
    "        img = Image.open(file_path)\n",
    "        # Apply the sharpen filter and convert to grayscale\n",
    "        edit = img.filter(ImageFilter.SHARPEN).convert('L')\n",
    "        # Get the clean name (without extension)\n",
    "        clean_name = os.path.splitext(filename)[0]\n",
    "        # Save the edited image to the output directory\n",
    "        output_path = os.path.join(PathOut, f\"{clean_name}_edited.jpg\")\n",
    "        edit.save(output_path)"
   ]
  },
  {
   "cell_type": "code",
   "execution_count": null,
   "id": "dff9141c",
   "metadata": {},
   "outputs": [],
   "source": []
  }
 ],
 "metadata": {
  "kernelspec": {
   "display_name": "Python 3 (ipykernel)",
   "language": "python",
   "name": "python3"
  },
  "language_info": {
   "codemirror_mode": {
    "name": "ipython",
    "version": 3
   },
   "file_extension": ".py",
   "mimetype": "text/x-python",
   "name": "python",
   "nbconvert_exporter": "python",
   "pygments_lexer": "ipython3",
   "version": "3.11.4"
  }
 },
 "nbformat": 4,
 "nbformat_minor": 5
}
